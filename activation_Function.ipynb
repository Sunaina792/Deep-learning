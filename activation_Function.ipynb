{
  "nbformat": 4,
  "nbformat_minor": 0,
  "metadata": {
    "colab": {
      "private_outputs": true,
      "provenance": []
    },
    "kernelspec": {
      "name": "python3",
      "display_name": "Python 3"
    },
    "language_info": {
      "name": "python"
    }
  },
  "cells": [
    {
      "cell_type": "code",
      "execution_count": null,
      "metadata": {
        "id": "9Fxtc1LxLFmd"
      },
      "outputs": [],
      "source": [
        "import pandas as pd\n",
        "import numpy as np\n",
        "import matplotlib.pyplot as plt"
      ]
    },
    {
      "cell_type": "code",
      "source": [
        "df = pd.read_csv('classification_dataset.csv')"
      ],
      "metadata": {
        "id": "bsFQ9AgvLaZm"
      },
      "execution_count": null,
      "outputs": []
    },
    {
      "cell_type": "code",
      "source": [
        "df.head()"
      ],
      "metadata": {
        "id": "DYEge9DGLbDC"
      },
      "execution_count": null,
      "outputs": []
    },
    {
      "cell_type": "code",
      "source": [
        "X = df[['x1','x2']].values\n",
        "y = df['label'].values"
      ],
      "metadata": {
        "id": "PjgGmYMOLed7"
      },
      "execution_count": null,
      "outputs": []
    },
    {
      "cell_type": "code",
      "source": [
        "plt.scatter(X[:,0],X[:,1], c=y)\n",
        "plt.show()"
      ],
      "metadata": {
        "id": "2ObTFl2hLh5-"
      },
      "execution_count": null,
      "outputs": []
    },
    {
      "cell_type": "code",
      "source": [
        "\n",
        "from tensorflow.keras.models import Sequential\n",
        "from tensorflow.keras.layers import Dense\n",
        "from tensorflow.keras.layers import Dropout\n",
        "from tensorflow.keras.optimizers import Adam"
      ],
      "metadata": {
        "id": "kuNcMxLaLkVo"
      },
      "execution_count": null,
      "outputs": []
    },
    {
      "cell_type": "code",
      "source": [
        "## without activation function\n",
        "model = Sequential()\n",
        "model.add(Dense(128, input_dim=2, activation='linear'))\n",
        "model.add(Dense(128, activation='linear'))\n",
        "model.add(Dense(1, activation='sigmoid'))\n",
        "\n",
        "adam = Adam(learning_rate=0.001)\n",
        "model.compile(loss='binary_crossentropy', optimizer=adam, metrics=['accuracy'])"
      ],
      "metadata": {
        "id": "VXloz6tRLtFs"
      },
      "execution_count": null,
      "outputs": []
    },
    {
      "cell_type": "code",
      "source": [
        "history = model.fit(X, y, epochs=100, batch_size=32, validation_split=0.2)"
      ],
      "metadata": {
        "id": "xZplfhKNL1HB"
      },
      "execution_count": null,
      "outputs": []
    },
    {
      "cell_type": "code",
      "source": [
        "from mlxtend.plotting import plot_decision_regions\n",
        "plt.figure(figsize=(8, 4))\n",
        "plot_decision_regions(X, y, clf=model, legend=2)\n",
        "plt.title('Decision Boundary without Activation Function')\n",
        "plt.xlabel('x1')\n",
        "plt.ylabel('x2')\n",
        "plt.show()"
      ],
      "metadata": {
        "id": "wIAaKSrqL40Z"
      },
      "execution_count": null,
      "outputs": []
    },
    {
      "cell_type": "code",
      "source": [
        "# with activation function\n",
        "\n",
        "model = Sequential()\n",
        "model.add(Dense(128, input_dim=2, activation='relu'))\n",
        "model.add(Dense(128, activation='relu'))\n",
        "model.add(Dense(1, activation='sigmoid'))\n",
        "\n",
        "adam = Adam(learning_rate=0.001)\n",
        "model.compile(loss='binary_crossentropy', optimizer=adam, metrics=['accuracy'])\n"
      ],
      "metadata": {
        "id": "O7dW_eYRL-HL"
      },
      "execution_count": null,
      "outputs": []
    },
    {
      "cell_type": "code",
      "source": [
        "history = model.fit(X, y, epochs=100, batch_size=32, validation_split=0.2)"
      ],
      "metadata": {
        "id": "2v5rPajgMEAs"
      },
      "execution_count": null,
      "outputs": []
    },
    {
      "cell_type": "code",
      "source": [
        "from mlxtend.plotting import plot_decision_regions\n",
        "plt.figure(figsize=(8, 4))\n",
        "plot_decision_regions(X, y, clf=model, legend=2)\n",
        "plt.title('Decision Boundary with Activation Function')\n",
        "plt.xlabel('x1')\n",
        "plt.ylabel('x2')\n",
        "plt.show()"
      ],
      "metadata": {
        "id": "M85IBXbpMI1p"
      },
      "execution_count": null,
      "outputs": []
    },
    {
      "cell_type": "code",
      "source": [],
      "metadata": {
        "id": "dZIk9fcSMNRM"
      },
      "execution_count": null,
      "outputs": []
    }
  ]
}